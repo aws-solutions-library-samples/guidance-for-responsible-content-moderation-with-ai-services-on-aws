{
 "cells": [
  {
   "cell_type": "markdown",
   "id": "b6383781",
   "metadata": {},
   "source": [
    "# **Image Moderation Workshop**"
   ]
  },
  {
   "cell_type": "markdown",
   "id": "b104c3eb",
   "metadata": {},
   "source": [
    "## Prepare training data for custom model\n",
    "We will use pictures in custom-model-training/data for demostration in this project. Before we train the model, we will augment more data for training."
   ]
  },
  {
   "cell_type": "markdown",
   "id": "f37cef56",
   "metadata": {},
   "source": [
    "Now, we will see how many labels in our training dataset. Now we only have one label for training. Let's check it:"
   ]
  },
  {
   "cell_type": "code",
   "execution_count": null,
   "id": "969a3e9c",
   "metadata": {
    "tags": []
   },
   "outputs": [],
   "source": [
    "with open('data/labels/train/classes.txt') as f:\n",
    "    categories = f.read().splitlines()\n",
    "\n",
    "print('Custom labels:', categories)"
   ]
  },
  {
   "cell_type": "markdown",
   "id": "e0116def",
   "metadata": {},
   "source": [
    "### Data Augmentation\n",
    "\n",
    "If we don't have much data for training, data augmentation is a way to increase training set by creating modified copies from a existing dataset.\n",
    "`Albumentations` efficiently implements a rich variety of image transform operations for data augmentation. We will use this library to enrich our training dataset."
   ]
  },
  {
   "cell_type": "code",
   "execution_count": null,
   "id": "7fa4e8dc",
   "metadata": {
    "tags": []
   },
   "outputs": [],
   "source": [
    "!pip install -q albumentations opencv-python-headless\n",
    "!pip install -qU opencv-python"
   ]
  },
  {
   "cell_type": "markdown",
   "id": "8f331561",
   "metadata": {},
   "source": [
    "Let's use `albumentations` to generate 9 copies for each image in dataset augmentation. It takes a minute or two, please wait for the whole process to finish."
   ]
  },
  {
   "cell_type": "code",
   "execution_count": null,
   "id": "44b0dee2-697f-4684-b23d-a5e70d872981",
   "metadata": {
    "pycharm": {
     "is_executing": true
    }
   },
   "outputs": [],
   "source": [
    "import glob\n",
    "import os\n",
    "from pathlib import Path\n",
    "from image_augment import ImageAugmentor\n",
    "import tqdm\n",
    "\n",
    "copies_per_image = 9\n",
    "label_id = 0\n",
    "\n",
    "print(f'We will create {copies_per_image} copies for label {label_id}')\n",
    "ia = ImageAugmentor({label_id:copies_per_image}, \"data/images/train/\", \"data/labels/train/\")\n",
    "    \n",
    "for image_name in tqdm.tqdm(glob.glob('data/images/train/*')):\n",
    "    \n",
    "    label_name = os.path.join('data/labels/train', f\"{Path(image_name).stem}.txt\")\n",
    "\n",
    "    ia.bbox_augmentation(image_name, label_name)"
   ]
  },
  {
   "cell_type": "markdown",
   "id": "ea228d68",
   "metadata": {},
   "source": [
    "## Prepare training data\n",
    "\n",
    "In order to train a custom model to detect our custom label, we will use YoloV5, which offers a real-time object detection framework with pretrained models in deep learning and computer vision. We will,\n",
    "- Download a yolo pretrained model,\n",
    "- Write the yaml config for next training step,\n",
    "- Upload our training dataset and the pretrained model"
   ]
  },
  {
   "cell_type": "markdown",
   "id": "8fc46106",
   "metadata": {},
   "source": [
    "### Download pretrained model\n",
    "Now we will download yolov5s6.pt for this training, ### Prepare the training config"
   ]
  },
  {
   "cell_type": "code",
   "execution_count": null,
   "id": "11497382",
   "metadata": {
    "tags": [],
    "pycharm": {
     "is_executing": true
    }
   },
   "outputs": [],
   "source": [
    "project = \"content-moderation\"\n",
    "yolo_version = '6.2'\n",
    "\n",
    "!mkdir -p data/cfg\n",
    "!mkdir -p data/weights\n",
    "!wget https://github.com/ultralytics/yolov5/releases/download/v$yolo_version/yolov5s6.pt --directory-prefix data/weights"
   ]
  },
  {
   "cell_type": "markdown",
   "id": "e6d44df2",
   "metadata": {},
   "source": [
    "### Write the yolo training config file\n",
    "And we will create a training config file populated with the following content,"
   ]
  },
  {
   "cell_type": "code",
   "execution_count": null,
   "id": "6b1c8e14",
   "metadata": {
    "tags": []
   },
   "outputs": [],
   "source": [
    "%%writefile data/cfg/content-moderation.yaml\n",
    "\n",
    "train: /opt/ml/input/data/images/train/\n",
    "val: /opt/ml/input/data/images/val/\n",
    "\n",
    "# number of labels\n",
    "nc: 1\n",
    "# label names\n",
    "names: ['tulip']"
   ]
  },
  {
   "cell_type": "markdown",
   "id": "212d1c30",
   "metadata": {},
   "source": [
    "### Upload the data for training\n",
    "Upload the data to default sagemaker s3 bucket"
   ]
  },
  {
   "cell_type": "code",
   "execution_count": null,
   "id": "cfab123c",
   "metadata": {
    "tags": []
   },
   "outputs": [],
   "source": [
    "from datetime import datetime\n",
    "import sagemaker\n",
    "\n",
    "sagemaker_session = sagemaker.Session()\n",
    "#training_job_name = job_name\n",
    "sagemaker_default_bucket = sagemaker_session.default_bucket()\n",
    "project_and_time_prefix = project+'-'+ datetime.now().strftime(\"%Y-%m-%d-%H-%M-%S\")"
   ]
  },
  {
   "cell_type": "code",
   "execution_count": null,
   "id": "75333f16",
   "metadata": {
    "tags": []
   },
   "outputs": [],
   "source": [
    "!aws s3 sync data/ s3://$sagemaker_default_bucket/training_data/$project_and_time_prefix"
   ]
  },
  {
   "cell_type": "markdown",
   "id": "72205c82",
   "metadata": {},
   "source": [
    "## Training Custom model\n",
    "After we prepare the training data, let's start training our model to detect custom label with Sagemaker training job. You can find the training job listed on AWS console, Sagemaker -> Training - > Training jobs."
   ]
  },
  {
   "cell_type": "markdown",
   "id": "bda05b27",
   "metadata": {},
   "source": [
    "After training, you will find the the trained model in s3,"
   ]
  },
  {
   "cell_type": "code",
   "execution_count": null,
   "id": "56ace135-7bd4-4da1-a644-aafc9c966241",
   "metadata": {
    "tags": [],
    "pycharm": {
     "is_executing": true
    }
   },
   "outputs": [],
   "source": [
    "import os\n",
    "import sagemaker\n",
    "\n",
    "\n",
    "from sagemaker.pytorch import PyTorch\n",
    "from sagemaker.pytorch.model import PyTorchModel\n",
    "import logging\n",
    "logging.basicConfig(format='%(levelname)s:%(message)s', level=logging.INFO)\n",
    "\n",
    "sagemaker_session = sagemaker.Session()\n",
    "instance_type = 'ml.g4dn.12xlarge'\n",
    "role = sagemaker.get_execution_role()\n",
    "\n",
    "## hyperparameters for training\n",
    "git_config = {'repo': 'https://github.com/ultralytics/yolov5.git', 'branch': 'v6.2'}\n",
    "hyperparameters = {'data': '/opt/ml/input/data/cfg/{}.yaml'.format(project), \n",
    "                   'cfg': 'models/yolov5s.yaml',\n",
    "                   'hyp': 'data/hyps/hyp.scratch-med.yaml', \n",
    "                   'weight': '/opt/ml/input/data/weights/yolov5s.pt',\n",
    "                   'project': '/opt/ml/model/',\n",
    "                   'name': 'tutorial',\n",
    "                   'img': 640, \n",
    "                   'batch-size': 64,\n",
    "                   'batch': 10,\n",
    "                   'epochs': 60,\n",
    "                   'device': '0,1,2,3',\n",
    "                   'workers': 16\n",
    "} \n",
    "\n",
    "## define training job\n",
    "metric_definitions = [\n",
    "    {'Name': 'Precision', 'Regex': r'all\\s+[0-9.]+\\s+[0-9.]+\\s+([0-9.]+)'},\n",
    "    {'Name': 'Recall', 'Regex': r'all\\s+[0-9.]+\\s+[0-9.]+\\s+[0-9.]+\\s+([0-9.]+)'},\n",
    "    {'Name': 'mAP@.5', 'Regex': r'all\\s+[0-9.]+\\s+[0-9.]+\\s+[0-9.]+\\s+[0-9.]+\\s+([0-9.]+)'},\n",
    "    {'Name': 'mAP@.5:.95', 'Regex': r'all\\s+[0-9.]+\\s+[0-9.]+\\s+[0-9.]+\\s+[0-9.]+\\s+[0-9.]+\\s+([0-9.]+)'}\n",
    "]\n",
    "\n",
    "estimator = PyTorch(entry_point='train.py',\n",
    "                    source_dir='.',\n",
    "                    git_config=git_config,\n",
    "                    role=role,\n",
    "                    hyperparameters=hyperparameters,\n",
    "                    framework_version='1.13.1',  # '1.8.1', '1.9.1'\n",
    "                    py_version='py39',  # 'py3', 'py38'\n",
    "                    script_mode=True,       \n",
    "                    instance_count=1,  # 1 or 2 or ...\n",
    "                    instance_type=instance_type,\n",
    "                    train_max_wait=72 * 60 * 60,\n",
    "                    use_spot_instances=True,\n",
    "                    metric_definitions = metric_definitions,\n",
    "                    distribution={\"torch_distributed\": {\"enabled\": True}},\n",
    "                    base_job_name=f'yolo-{yolo_version.replace(\".\", \"\")}-hyp-med-no-aug-v6'\n",
    ")\n",
    "\n",
    "## fire the training job\n",
    "data_location = f's3://{sagemaker_default_bucket}/training_data/{project_and_time_prefix}'\n",
    "inputs = {'cfg': data_location+'/cfg',\n",
    "          'weights': data_location+'/weights',\n",
    "          'images': data_location+'/images',\n",
    "          'labels': data_location+'/labels'}\n",
    "\n",
    "estimator.fit(inputs)"
   ]
  },
  {
   "cell_type": "code",
   "execution_count": null,
   "id": "2d5d7bfa",
   "metadata": {
    "tags": []
   },
   "outputs": [],
   "source": [
    "job_name = estimator.latest_training_job.name\n",
    "\n",
    "print(f'Trained model location: s3//{sagemaker_default_bucket}/{job_name}/output/model.tar.gz')"
   ]
  },
  {
   "cell_type": "markdown",
   "id": "fe3cc980",
   "metadata": {},
   "source": [
    "## Prepare the model for inference\n",
    "\n",
    "We will prepare the output model:\n",
    "- Download the training model\n",
    "- Pack it with inference code"
   ]
  },
  {
   "cell_type": "markdown",
   "id": "7a3a6de2",
   "metadata": {},
   "source": [
    "### Download the training model\n",
    "\n",
    "Download the training model to file model.tar.gz"
   ]
  },
  {
   "cell_type": "code",
   "execution_count": null,
   "id": "7051e81e",
   "metadata": {
    "tags": [],
    "pycharm": {
     "is_executing": true
    }
   },
   "outputs": [],
   "source": [
    "!rm -f model.tar.gz\n",
    "!aws s3 cp s3://$sagemaker_default_bucket/$job_name/output/model.tar.gz model.tar.gz"
   ]
  },
  {
   "cell_type": "code",
   "execution_count": null,
   "id": "1ba7bf13-ace6-4f8f-94f8-41118862797a",
   "metadata": {
    "tags": []
   },
   "outputs": [],
   "source": [
    "!rm -rf tutorial\n",
    "!tar -zxf model.tar.gz"
   ]
  },
  {
   "cell_type": "markdown",
   "id": "2066645b",
   "metadata": {},
   "source": [
    "### Prepare for the model deployment\n",
    "\n",
    "Make the inference model file"
   ]
  },
  {
   "cell_type": "code",
   "execution_count": null,
   "id": "2acac068",
   "metadata": {
    "tags": []
   },
   "outputs": [],
   "source": [
    "!rm -rf model-inference\n",
    "!rm -f inference-pytorch.tar.gz\n",
    "!mkdir model-inference\n",
    "!cp -R code model-inference/\n",
    "!cp tutorial/weights/best.pt model-inference/\n",
    "!cd model-inference && tar -czvf ../inference-pytorch.tar.gz *"
   ]
  },
  {
   "cell_type": "code",
   "execution_count": null,
   "id": "38f085d6-d315-4348-a1d3-1c93a0376d2f",
   "metadata": {
    "tags": []
   },
   "outputs": [],
   "source": [
    "!aws s3 cp inference-pytorch.tar.gz s3://$sagemaker_default_bucket/output/inference-pytorch.tar.gz"
   ]
  },
  {
   "cell_type": "code",
   "execution_count": null,
   "id": "d4cfe06d-ff1b-4c9e-bd1e-d3f968ccef6b",
   "metadata": {},
   "outputs": [],
   "source": []
  }
 ],
 "metadata": {
  "kernelspec": {
   "display_name": "conda_pytorch_p310",
   "language": "python",
   "name": "conda_pytorch_p310"
  },
  "language_info": {
   "codemirror_mode": {
    "name": "ipython",
    "version": 3
   },
   "file_extension": ".py",
   "mimetype": "text/x-python",
   "name": "python",
   "nbconvert_exporter": "python",
   "pygments_lexer": "ipython3",
   "version": "3.10.12"
  }
 },
 "nbformat": 4,
 "nbformat_minor": 5
}
